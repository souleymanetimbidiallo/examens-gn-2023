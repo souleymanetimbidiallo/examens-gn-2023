{
 "cells": [
  {
   "cell_type": "markdown",
   "id": "851b2cb6",
   "metadata": {},
   "source": [
    "# Results of BAC 2023 in Guinea"
   ]
  },
  {
   "cell_type": "code",
   "execution_count": 39,
   "id": "f80e75c7",
   "metadata": {},
   "outputs": [],
   "source": [
    "import pandas as pd\n",
    "\n",
    "import matplotlib.pyplot as plt\n",
    "import fpdf as fpdf\n",
    "\n",
    "import warnings\n",
    "\n",
    "# Ignorer les avertissements spécifiques à openpyxl liés à l'analyse des en-têtes et pieds de page\n",
    "warnings.filterwarnings(\"ignore\", message=\"Cannot parse header or footer\")"
   ]
  },
  {
   "cell_type": "markdown",
   "id": "18771a21",
   "metadata": {},
   "source": [
    "# Load the data"
   ]
  },
  {
   "cell_type": "code",
   "execution_count": 40,
   "id": "0346a712",
   "metadata": {
    "scrolled": true
   },
   "outputs": [
    {
     "name": "stdout",
     "output_type": "stream",
     "text": [
      "      Options  Rang ex          Prénoms et Noms            Centre      PV  \\\n",
      "1          SE     1           JUSTIN GUILAVOGUI         EP BAMALA  259041   \n",
      "2          SE     2           CECE ALAIN GOUMOU       LYCEE FELIX  262391   \n",
      "3          SE     3         MARIAMA TOUPE BALDE         LE PRINCE  194601   \n",
      "4          SE     4             MAMADY KOUROUMA       BOKE CENTRE    5931   \n",
      "5          SE     5            MAMADOU OURY BAH       LYCEE WOURO  236291   \n",
      "...       ...   ... ..                      ...               ...     ...   \n",
      "25668   SE-FA    22     ABOUBACAR MOHAMED SYLLA  EP_ LANSEBOUNDJI      45   \n",
      "25669   SE-FA    23              MOHAMED CAMARA  COLLEGE KINDIA 4    2245   \n",
      "25670   SE-FA    24           KADIDIATOU DIALLO             KK IV     805   \n",
      "25671   SE-FA    25             FATOUMATA KEITA  EP_ LANSEBOUNDJI     205   \n",
      "25672   SE-FA    26               SARAN DIAKITE             KK IV    1055   \n",
      "\n",
      "                      Origine Mention  \n",
      "1           LYCEE STE THERESE   TBIEN  \n",
      "2                 SAINT DENIS   TBIEN  \n",
      "3                GS SOLOKOURE   TBIEN  \n",
      "4                       KANIA   TBIEN  \n",
      "5              GS TOUNTOUROUN   TBIEN  \n",
      "...                       ...     ...  \n",
      "25668  LYCEE COLLEGE FA MATAM     NaN  \n",
      "25669                LYCEE FA     NaN  \n",
      "25670   HADJA KANINGBE SIDIBE     NaN  \n",
      "25671          CANDIDAT LIBRE     NaN  \n",
      "25672   HADJA KANINGBE SIDIBE     NaN  \n",
      "\n",
      "[25668 rows x 8 columns]\n"
     ]
    }
   ],
   "source": [
    "# Read Excel file\n",
    "source_file = 'BAC-2023.xlsx'\n",
    "data = pd.read_excel(source_file)\n",
    "\n",
    "\n",
    "# Read excel file by skipping rows\n",
    "data = pd.read_excel(source_file, skiprows=[0])\n",
    "data = data[~data['Options'].str.startswith(\"SCIENCES\")]\n",
    "data['PV'] = data['PV'].astype(int)\n",
    "data['Rang'] = data['Rang'].astype(int)\n",
    "data['ex'] = data['ex'].fillna('')\n",
    "\n",
    "#print(data.columns)\n",
    "print(data)"
   ]
  },
  {
   "cell_type": "markdown",
   "id": "e9584e23",
   "metadata": {},
   "source": [
    "## Display Top n candidates"
   ]
  },
  {
   "cell_type": "code",
   "execution_count": 41,
   "id": "b31de7c9",
   "metadata": {},
   "outputs": [
    {
     "name": "stdout",
     "output_type": "stream",
     "text": [
      "  Options  Rang ex               Prénoms et Noms              Centre      PV  \\\n",
      "1      SE     1                JUSTIN GUILAVOGUI           EP BAMALA  259041   \n",
      "2      SE     2                CECE ALAIN GOUMOU         LYCEE FELIX  262391   \n",
      "3      SE     3              MARIAMA TOUPE BALDE           LE PRINCE  194601   \n",
      "4      SE     4                  MAMADY KOUROUMA         BOKE CENTRE    5931   \n",
      "5      SE     5                 MAMADOU OURY BAH         LYCEE WOURO  236291   \n",
      "6      SE     6     SOULEYMANE IBN IBRAHIM BALDE  LYCEE D'EXCELLENCE   54831   \n",
      "7      SE     7                      KARAMO KABA     COLLEGE 1 DONKA   11211   \n",
      "8      SE     8               NABY LAYE BANGOURA     COLLEGE 1 DONKA   11741   \n",
      "\n",
      "             Origine Mention  \n",
      "1  LYCEE STE THERESE   TBIEN  \n",
      "2        SAINT DENIS   TBIEN  \n",
      "3       GS SOLOKOURE   TBIEN  \n",
      "4              KANIA   TBIEN  \n",
      "5     GS TOUNTOUROUN   TBIEN  \n",
      "6    NOTRE MERE PLUS   TBIEN  \n",
      "7       SAINTE MARIE   TBIEN  \n",
      "8       SAINTE MARIE   TBIEN  \n"
     ]
    }
   ],
   "source": [
    "n = 10\n",
    "print(data.head(8))"
   ]
  },
  {
   "cell_type": "markdown",
   "id": "8947a02d",
   "metadata": {},
   "source": [
    "## Find Student by PV number"
   ]
  },
  {
   "cell_type": "code",
   "execution_count": 18,
   "id": "5ea32893",
   "metadata": {},
   "outputs": [
    {
     "name": "stdout",
     "output_type": "stream",
     "text": [
      "Candidat trouvé :\n",
      "  Options  Rang   ex      Prénoms et Noms     Centre        PV       Origine  \\\n",
      "3      SE   3.0  NaN  MARIAMA TOUPE BALDE  LE PRINCE  194601.0  GS SOLOKOURE   \n",
      "\n",
      "  Mention  \n",
      "3   TBIEN  \n"
     ]
    }
   ],
   "source": [
    "# Demande à l'utilisateur de saisir une origine\n",
    "#nro_pv = str(input(\"Numéro du pv : \"))\n",
    "\n",
    "candidat = data.loc[data['PV'] == 194601.0]\n",
    "\n",
    "# Afficher les résultats\n",
    "print(\"Candidat trouvé :\")\n",
    "print(candidat)"
   ]
  },
  {
   "cell_type": "markdown",
   "id": "cd36e33b",
   "metadata": {},
   "source": [
    "## Options List"
   ]
  },
  {
   "cell_type": "code",
   "execution_count": 45,
   "id": "979ef023",
   "metadata": {},
   "outputs": [
    {
     "name": "stdout",
     "output_type": "stream",
     "text": [
      "Liste des options:  ['SE' 'SM' 'SS' 'SS-FA' 'SE-FA']\n",
      "Nombre d'étudiants en SE: 4019\n",
      "Nombre d'étudiants en SM: 8948\n",
      "Nombre d'étudiants en SS: 11728\n"
     ]
    },
    {
     "data": {
      "image/png": "[encoded data removed]",
      "text/plain": [
       "<Figure size 720x576 with 1 Axes>"
      ]
     },
     "metadata": {},
     "output_type": "display_data"
    }
   ],
   "source": [
    "options_uniques = data['Options'].unique()\n",
    "print(\"Liste des options: \", options_uniques)\n",
    "\n",
    "# Filtrer le DataFrame pour les étudiants avec l'option\n",
    "etudiants_SE = data[data['Options'] == 'SE']\n",
    "print(f\"Nombre d'étudiants en SE: {len(etudiants_SE)}\")\n",
    "\n",
    "etudiants_SM = data[data['Options'] == 'SM']\n",
    "print(f\"Nombre d'étudiants en SM: {len(etudiants_SM)}\")\n",
    "\n",
    "etudiants_SS = data[data['Options'] == 'SS']\n",
    "print(f\"Nombre d'étudiants en SS: {len(etudiants_SS)}\")\n",
    "\n",
    "candidats_region = data['Options'].value_counts()\n",
    "\n",
    "# Compter le nombre de candidats par région\n",
    "\n",
    "# Créer un graphique en camembert avec les valeurs de comptage\n",
    "candidats_region.plot(kind='pie', autopct='%1.1f%%', figsize=(10, 8))\n",
    "plt.ylabel('')\n",
    "plt.title('Répartition des candidats par options')\n",
    "\n",
    "plt.show()"
   ]
  },
  {
   "cell_type": "markdown",
   "id": "178a18d1",
   "metadata": {},
   "source": [
    "## Free Candidates"
   ]
  },
  {
   "cell_type": "code",
   "execution_count": 62,
   "id": "8319fb98",
   "metadata": {},
   "outputs": [
    {
     "name": "stdout",
     "output_type": "stream",
     "text": [
      "      Options  Rang ex      Prénoms et Noms               Centre      PV  \\\n",
      "12         SE    12            MOUSSA KEITA   LYCEE PATHE DIALLO  128221   \n",
      "28         SE    28         MARIE SOROPOGUI  COLLEGE LOLA CENTRE  253331   \n",
      "41         SE    41           MORIBA KPEIMY  COLLEGE LOLA CENTRE  253621   \n",
      "54         SE    53  X          JEROME LOUA  COLLEGE LOLA CENTRE  252661   \n",
      "68         SE    66  X       AGATHE MALAMOU  COLLEGE LOLA CENTRE  251141   \n",
      "...       ...   ... ..                  ...                  ...     ...   \n",
      "25638   SS-FA   936  X      NABY SAID SYLLA           GS-YATTAYA    5684   \n",
      "25639   SS-FA   936  X      SEYDOUBA CAMARA     COLLEGE KINDIA 4   15134   \n",
      "25641   SS-FA   936  X  MOHAMED YARIE SYLLA                KK IV    3944   \n",
      "25658   SE-FA    12         MAÏMOUNA DIALLO     EP_ LANSEBOUNDJI     275   \n",
      "25671   SE-FA    25         FATOUMATA KEITA     EP_ LANSEBOUNDJI     205   \n",
      "\n",
      "              Origine Mention  \n",
      "12     CANDIDAT LIBRE    BIEN  \n",
      "28     CANDIDAT LIBRE    BIEN  \n",
      "41     CANDIDAT LIBRE    BIEN  \n",
      "54     CANDIDAT LIBRE    BIEN  \n",
      "68     CANDIDAT LIBRE    BIEN  \n",
      "...               ...     ...  \n",
      "25638  CANDIDAT LIBRE     NaN  \n",
      "25639  CANDIDAT LIBRE     NaN  \n",
      "25641  CANDIDAT LIBRE     NaN  \n",
      "25658  CANDIDAT LIBRE     NaN  \n",
      "25671  CANDIDAT LIBRE     NaN  \n",
      "\n",
      "[3048 rows x 8 columns]\n"
     ]
    }
   ],
   "source": [
    "candidats_ecole = data.loc[data['Origine'] == 'CANDIDAT LIBRE']\n",
    "print(candidats_ecole)"
   ]
  },
  {
   "cell_type": "markdown",
   "id": "757fc64d",
   "metadata": {},
   "source": [
    "## School candidates"
   ]
  },
  {
   "cell_type": "code",
   "execution_count": 43,
   "id": "7c399f87",
   "metadata": {},
   "outputs": [
    {
     "name": "stdout",
     "output_type": "stream",
     "text": [
      "      Options   Rang ex           Prénoms et Noms  \\\n",
      "5139       SM   1117  X              HADIATOU SOW   \n",
      "5832       SM   1809  X     CHRISTOPHE MARIE HABA   \n",
      "7583       SM   3557  X     MAMADOU SAÏDOU DIALLO   \n",
      "10605      SM   6583  X             N'FALY KALOGA   \n",
      "10752      SM   6729  X       FATOUMATA BINTA SOW   \n",
      "13176      SS    207        ABDOUL GHADIRI DIALLO   \n",
      "13211      SS    240  X           ANSOUMANE DIANE   \n",
      "14528      SS   1554  X          ABOUBACAR SIDIBE   \n",
      "14616      SS   1644  X       HADJA DAMBA SAMOURA   \n",
      "14759      SS   1788  X             SOUADOU BARRY   \n",
      "14968      SS   1986  X            MACKY SALL TOP   \n",
      "15046      SS   2067  X       BANGALY BINKO TOURE   \n",
      "16185      SS   3212  X           CAROLINE CAMARA   \n",
      "17357      SS   4379  X     FATOUMATA BINTA BARRY   \n",
      "17653      SS   4671  X        ALPHA OUMAR DIALLO   \n",
      "20136      SS   7153  X                 OUMAR BAH   \n",
      "22118      SS   9117  X          MAKALE COUMBASSA   \n",
      "22244      SS   9268  X  ABOUBACAR SIDIKI KOUYATE   \n",
      "23330      SS  10321  X           ABDOULAYE SYLLA   \n",
      "24462      SS  11483  X           DJENABOU DIALLO   \n",
      "\n",
      "                                Centre      PV  Origine Mention  \n",
      "5139             HADJA-SAFOURATA BAH 1  176292  LYHNASO   ABIEN  \n",
      "5832                      LYCEE-KOBAYA  158992  LYHNASO   ABIEN  \n",
      "7583                     MOHAMED-BARRY  169532  LYHNASO     NaN  \n",
      "10605                       EP-YATTAYA  135272  LYHNASO     NaN  \n",
      "10752                    MOHAMED-BARRY  167802  LYHNASO     NaN  \n",
      "13176             ELHADJ-LANSANA DIABY  161423  LYHNASO    BIEN  \n",
      "13211            HADJA-SAFOURATA BAH 2  178863  LYHNASO    BIEN  \n",
      "14528            HADJA-SAFOURATA BAH 2  178083  LYHNASO   ABIEN  \n",
      "14616  LYCEE-DJIBRIL TAMSIR NIANE KIPE  197183  LYHNASO   ABIEN  \n",
      "14759                      CS-LAMBANYI  161173  LYHNASO   ABIEN  \n",
      "14968                     LYCEE-BIKABA  205833  LYHNASO   ABIEN  \n",
      "15046                       GS-YATTAYA  154603  LYHNASO   ABIEN  \n",
      "16185                     LYCEE-BIKABA  204223  LYHNASO   ABIEN  \n",
      "17357                  EP-DAR ES SALAM  165943  LYHNASO     NaN  \n",
      "17653                       EP-TAOUYAH  173413  LYHNASO     NaN  \n",
      "20136                     LYCEE-BIKABA  207633  LYHNASO     NaN  \n",
      "22118  LYCEE-DJIBRIL TAMSIR NIANE KIPE  197773  LYHNASO     NaN  \n",
      "22244            HADJA-SAFOURATA BAH 2  178113  LYHNASO     NaN  \n",
      "23330              EP-RATOMA KONIMODOU  208513  LYHNASO     NaN  \n",
      "24462                   COLLEGE-KOLOMA  151303  LYHNASO     NaN  \n"
     ]
    }
   ],
   "source": [
    "# Demande à l'utilisateur de saisir une origine\n",
    "#ecole = str(input(\"Entrez l'école d'origine : \")).upper()\n",
    "\n",
    "ecole = \"LYHNASO\"\n",
    "\n",
    "candidats_ecole = data.loc[data['Origine'] == ecole]\n",
    "print(candidats_ecole)"
   ]
  },
  {
   "cell_type": "markdown",
   "id": "c4519631",
   "metadata": {},
   "source": [
    "## School origins"
   ]
  },
  {
   "cell_type": "code",
   "execution_count": 54,
   "id": "27463e89",
   "metadata": {},
   "outputs": [
    {
     "name": "stdout",
     "output_type": "stream",
     "text": [
      "L'école avec le plus d'admis est : JB TITO avec 712 étudiants.\n"
     ]
    }
   ],
   "source": [
    "ecoles_counts = data['Origine'].value_counts()\n",
    "school = ecoles_counts.index[1]\n",
    "nombre_etudiants = ecoles_counts.iloc[1]\n",
    "print(f\"L'école avec le plus d'admis est : {school} avec {nombre_etudiants} étudiants.\")\n"
   ]
  }
 ],
 "metadata": {
  "kernelspec": {
   "display_name": "Python 3 (ipykernel)",
   "language": "python",
   "name": "python3"
  },
  "language_info": {
   "codemirror_mode": {
    "name": "ipython",
    "version": 3
   },
   "file_extension": ".py",
   "mimetype": "text/x-python",
   "name": "python",
   "nbconvert_exporter": "python",
   "pygments_lexer": "ipython3",
   "version": "3.9.7"
  }
 },
 "nbformat": 4,
 "nbformat_minor": 5
}
